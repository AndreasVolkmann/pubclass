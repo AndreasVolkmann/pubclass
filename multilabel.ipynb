{
 "cells": [
  {
   "cell_type": "code",
   "execution_count": 2,
   "metadata": {
    "collapsed": true
   },
   "outputs": [],
   "source": [
    "import pandas as pd\n",
    "data = pd.read_csv(\"pub-learn.csv\", quotechar='\"')"
   ]
  },
  {
   "cell_type": "code",
   "execution_count": 3,
   "metadata": {
    "collapsed": true
   },
   "outputs": [
    {
     "data": {
      "text/html": [
       "<div>\n",
       "<table border=\"1\" class=\"dataframe\">\n",
       "  <thead>\n",
       "    <tr style=\"text-align: right;\">\n",
       "      <th></th>\n",
       "      <th>id</th>\n",
       "      <th>title</th>\n",
       "      <th>abstract</th>\n",
       "      <th>meshes.0</th>\n",
       "      <th>meshes.1</th>\n",
       "      <th>meshes.2</th>\n",
       "      <th>meshes.3</th>\n",
       "      <th>meshes.4</th>\n",
       "      <th>meshes.5</th>\n",
       "      <th>meshes.6</th>\n",
       "      <th>...</th>\n",
       "      <th>meshes.15</th>\n",
       "      <th>meshes.16</th>\n",
       "      <th>meshes.17</th>\n",
       "      <th>meshes.18</th>\n",
       "      <th>meshes.19</th>\n",
       "      <th>meshes.20</th>\n",
       "      <th>meshes.21</th>\n",
       "      <th>meshes.22</th>\n",
       "      <th>meshes.23</th>\n",
       "      <th>meshes.24</th>\n",
       "    </tr>\n",
       "  </thead>\n",
       "  <tbody>\n",
       "    <tr>\n",
       "      <th>0</th>\n",
       "      <td>27764709</td>\n",
       "      <td>Ictal EEG source imaging in presurgical evalua...</td>\n",
       "      <td>To determine the agreement between five differ...</td>\n",
       "      <td>Adolescent</td>\n",
       "      <td>Adult</td>\n",
       "      <td>Brain Mapping</td>\n",
       "      <td>Electroencephalography</td>\n",
       "      <td>Female</td>\n",
       "      <td>Fourier Analysis</td>\n",
       "      <td>Humans</td>\n",
       "      <td>...</td>\n",
       "      <td>NaN</td>\n",
       "      <td>NaN</td>\n",
       "      <td>NaN</td>\n",
       "      <td>NaN</td>\n",
       "      <td>NaN</td>\n",
       "      <td>NaN</td>\n",
       "      <td>NaN</td>\n",
       "      <td>NaN</td>\n",
       "      <td>NaN</td>\n",
       "      <td>NaN</td>\n",
       "    </tr>\n",
       "    <tr>\n",
       "      <th>1</th>\n",
       "      <td>26921481</td>\n",
       "      <td>Comparing maximum autonomic activity of psycho...</td>\n",
       "      <td>The semiology of psychogenic non-epileptic sei...</td>\n",
       "      <td>Autonomic Nervous System</td>\n",
       "      <td>Diagnosis, Differential</td>\n",
       "      <td>Electroencephalography</td>\n",
       "      <td>Epilepsy</td>\n",
       "      <td>Heart Rate</td>\n",
       "      <td>Humans</td>\n",
       "      <td>Seizures</td>\n",
       "      <td>...</td>\n",
       "      <td>NaN</td>\n",
       "      <td>NaN</td>\n",
       "      <td>NaN</td>\n",
       "      <td>NaN</td>\n",
       "      <td>NaN</td>\n",
       "      <td>NaN</td>\n",
       "      <td>NaN</td>\n",
       "      <td>NaN</td>\n",
       "      <td>NaN</td>\n",
       "      <td>NaN</td>\n",
       "    </tr>\n",
       "    <tr>\n",
       "      <th>2</th>\n",
       "      <td>26818882</td>\n",
       "      <td>Epileptiform discharge propagation: Analyzing ...</td>\n",
       "      <td>To investigate how often discharge propagation...</td>\n",
       "      <td>Action Potentials</td>\n",
       "      <td>Adolescent</td>\n",
       "      <td>Adult</td>\n",
       "      <td>Aged</td>\n",
       "      <td>Child</td>\n",
       "      <td>Child, Preschool</td>\n",
       "      <td>Electroencephalography</td>\n",
       "      <td>...</td>\n",
       "      <td>NaN</td>\n",
       "      <td>NaN</td>\n",
       "      <td>NaN</td>\n",
       "      <td>NaN</td>\n",
       "      <td>NaN</td>\n",
       "      <td>NaN</td>\n",
       "      <td>NaN</td>\n",
       "      <td>NaN</td>\n",
       "      <td>NaN</td>\n",
       "      <td>NaN</td>\n",
       "    </tr>\n",
       "    <tr>\n",
       "      <th>3</th>\n",
       "      <td>26712538</td>\n",
       "      <td>Focal EEG features and therapeutic response in...</td>\n",
       "      <td>To investigate the characteristics of focal EE...</td>\n",
       "      <td>Adolescent</td>\n",
       "      <td>Adult</td>\n",
       "      <td>Anticonvulsants</td>\n",
       "      <td>Child</td>\n",
       "      <td>Child, Preschool</td>\n",
       "      <td>Electroencephalography</td>\n",
       "      <td>Epilepsy, Absence</td>\n",
       "      <td>...</td>\n",
       "      <td>NaN</td>\n",
       "      <td>NaN</td>\n",
       "      <td>NaN</td>\n",
       "      <td>NaN</td>\n",
       "      <td>NaN</td>\n",
       "      <td>NaN</td>\n",
       "      <td>NaN</td>\n",
       "      <td>NaN</td>\n",
       "      <td>NaN</td>\n",
       "      <td>NaN</td>\n",
       "    </tr>\n",
       "    <tr>\n",
       "      <th>4</th>\n",
       "      <td>26677014</td>\n",
       "      <td>Benign infantile seizures and paroxysmal dyski...</td>\n",
       "      <td>Benign familial infantile seizures (BFIS), par...</td>\n",
       "      <td>Child</td>\n",
       "      <td>Child, Preschool</td>\n",
       "      <td>Chorea</td>\n",
       "      <td>Epilepsy, Benign Neonatal</td>\n",
       "      <td>Female</td>\n",
       "      <td>Genetic Predisposition to Disease</td>\n",
       "      <td>Humans</td>\n",
       "      <td>...</td>\n",
       "      <td>NaN</td>\n",
       "      <td>NaN</td>\n",
       "      <td>NaN</td>\n",
       "      <td>NaN</td>\n",
       "      <td>NaN</td>\n",
       "      <td>NaN</td>\n",
       "      <td>NaN</td>\n",
       "      <td>NaN</td>\n",
       "      <td>NaN</td>\n",
       "      <td>NaN</td>\n",
       "    </tr>\n",
       "  </tbody>\n",
       "</table>\n",
       "<p>5 rows × 28 columns</p>\n",
       "</div>"
      ],
      "text/plain": [
       "<div>\n",
       "<table border=\"1\" class=\"dataframe\">\n",
       "  <thead>\n",
       "    <tr style=\"text-align: right;\">\n",
       "      <th></th>\n",
       "      <th>id</th>\n",
       "      <th>title</th>\n",
       "      <th>abstract</th>\n",
       "      <th>meshes.0</th>\n",
       "      <th>meshes.1</th>\n",
       "      <th>meshes.2</th>\n",
       "      <th>meshes.3</th>\n",
       "      <th>meshes.4</th>\n",
       "      <th>meshes.5</th>\n",
       "      <th>meshes.6</th>\n",
       "      <th>...</th>\n",
       "      <th>meshes.15</th>\n",
       "      <th>meshes.16</th>\n",
       "      <th>meshes.17</th>\n",
       "      <th>meshes.18</th>\n",
       "      <th>meshes.19</th>\n",
       "      <th>meshes.20</th>\n",
       "      <th>meshes.21</th>\n",
       "      <th>meshes.22</th>\n",
       "      <th>meshes.23</th>\n",
       "      <th>meshes.24</th>\n",
       "    </tr>\n",
       "  </thead>\n",
       "  <tbody>\n",
       "    <tr>\n",
       "      <th>0</th>\n",
       "      <td>27764709</td>\n",
       "      <td>Ictal EEG source imaging in presurgical evalua...</td>\n",
       "      <td>To determine the agreement between five differ...</td>\n",
       "      <td>Adolescent</td>\n",
       "      <td>Adult</td>\n",
       "      <td>Brain Mapping</td>\n",
       "      <td>Electroencephalography</td>\n",
       "      <td>Female</td>\n",
       "      <td>Fourier Analysis</td>\n",
       "      <td>Humans</td>\n",
       "      <td>...</td>\n",
       "      <td>NaN</td>\n",
       "      <td>NaN</td>\n",
       "      <td>NaN</td>\n",
       "      <td>NaN</td>\n",
       "      <td>NaN</td>\n",
       "      <td>NaN</td>\n",
       "      <td>NaN</td>\n",
       "      <td>NaN</td>\n",
       "      <td>NaN</td>\n",
       "      <td>NaN</td>\n",
       "    </tr>\n",
       "    <tr>\n",
       "      <th>1</th>\n",
       "      <td>26921481</td>\n",
       "      <td>Comparing maximum autonomic activity of psycho...</td>\n",
       "      <td>The semiology of psychogenic non-epileptic sei...</td>\n",
       "      <td>Autonomic Nervous System</td>\n",
       "      <td>Diagnosis, Differential</td>\n",
       "      <td>Electroencephalography</td>\n",
       "      <td>Epilepsy</td>\n",
       "      <td>Heart Rate</td>\n",
       "      <td>Humans</td>\n",
       "      <td>Seizures</td>\n",
       "      <td>...</td>\n",
       "      <td>NaN</td>\n",
       "      <td>NaN</td>\n",
       "      <td>NaN</td>\n",
       "      <td>NaN</td>\n",
       "      <td>NaN</td>\n",
       "      <td>NaN</td>\n",
       "      <td>NaN</td>\n",
       "      <td>NaN</td>\n",
       "      <td>NaN</td>\n",
       "      <td>NaN</td>\n",
       "    </tr>\n",
       "    <tr>\n",
       "      <th>2</th>\n",
       "      <td>26818882</td>\n",
       "      <td>Epileptiform discharge propagation: Analyzing ...</td>\n",
       "      <td>To investigate how often discharge propagation...</td>\n",
       "      <td>Action Potentials</td>\n",
       "      <td>Adolescent</td>\n",
       "      <td>Adult</td>\n",
       "      <td>Aged</td>\n",
       "      <td>Child</td>\n",
       "      <td>Child, Preschool</td>\n",
       "      <td>Electroencephalography</td>\n",
       "      <td>...</td>\n",
       "      <td>NaN</td>\n",
       "      <td>NaN</td>\n",
       "      <td>NaN</td>\n",
       "      <td>NaN</td>\n",
       "      <td>NaN</td>\n",
       "      <td>NaN</td>\n",
       "      <td>NaN</td>\n",
       "      <td>NaN</td>\n",
       "      <td>NaN</td>\n",
       "      <td>NaN</td>\n",
       "    </tr>\n",
       "    <tr>\n",
       "      <th>3</th>\n",
       "      <td>26712538</td>\n",
       "      <td>Focal EEG features and therapeutic response in...</td>\n",
       "      <td>To investigate the characteristics of focal EE...</td>\n",
       "      <td>Adolescent</td>\n",
       "      <td>Adult</td>\n",
       "      <td>Anticonvulsants</td>\n",
       "      <td>Child</td>\n",
       "      <td>Child, Preschool</td>\n",
       "      <td>Electroencephalography</td>\n",
       "      <td>Epilepsy, Absence</td>\n",
       "      <td>...</td>\n",
       "      <td>NaN</td>\n",
       "      <td>NaN</td>\n",
       "      <td>NaN</td>\n",
       "      <td>NaN</td>\n",
       "      <td>NaN</td>\n",
       "      <td>NaN</td>\n",
       "      <td>NaN</td>\n",
       "      <td>NaN</td>\n",
       "      <td>NaN</td>\n",
       "      <td>NaN</td>\n",
       "    </tr>\n",
       "    <tr>\n",
       "      <th>4</th>\n",
       "      <td>26677014</td>\n",
       "      <td>Benign infantile seizures and paroxysmal dyski...</td>\n",
       "      <td>Benign familial infantile seizures (BFIS), par...</td>\n",
       "      <td>Child</td>\n",
       "      <td>Child, Preschool</td>\n",
       "      <td>Chorea</td>\n",
       "      <td>Epilepsy, Benign Neonatal</td>\n",
       "      <td>Female</td>\n",
       "      <td>Genetic Predisposition to Disease</td>\n",
       "      <td>Humans</td>\n",
       "      <td>...</td>\n",
       "      <td>NaN</td>\n",
       "      <td>NaN</td>\n",
       "      <td>NaN</td>\n",
       "      <td>NaN</td>\n",
       "      <td>NaN</td>\n",
       "      <td>NaN</td>\n",
       "      <td>NaN</td>\n",
       "      <td>NaN</td>\n",
       "      <td>NaN</td>\n",
       "      <td>NaN</td>\n",
       "    </tr>\n",
       "  </tbody>\n",
       "</table>\n",
       "<p>5 rows × 28 columns</p>\n",
       "</div>"
      ]
     },
     "execution_count": 3,
     "metadata": {},
     "output_type": "execute_result"
    }
   ],
   "source": [
    "data.head()"
   ]
  },
  {
   "cell_type": "code",
   "execution_count": 7,
   "metadata": {},
   "outputs": [
    {
     "name": "stdout",
     "output_type": "stream",
     "text": [
      "(621,)\n(621, 25)\n     meshes.0 meshes.1       meshes.2                meshes.3 meshes.4  \\\n0  Adolescent    Adult  Brain Mapping  Electroencephalography   Female   \n\n           meshes.5 meshes.6                    meshes.7 meshes.8  \\\n0  Fourier Analysis   Humans  Magnetic Resonance Imaging     Male   \n\n      meshes.9    ...    meshes.15 meshes.16 meshes.17 meshes.18 meshes.19  \\\n0  Middle Aged    ...          NaN       NaN       NaN       NaN       NaN   \n\n  meshes.20 meshes.21 meshes.22 meshes.23 meshes.24  \n0       NaN       NaN       NaN       NaN       NaN  \n\n[1 rows x 25 columns]\n"
     ]
    }
   ],
   "source": [
    "X = data.abstract\n",
    "y = data[data.columns[3:]]\n",
    "print(X.shape)\n",
    "print(y.shape)\n",
    "print(y[0:1])"
   ]
  },
  {
   "cell_type": "code",
   "execution_count": 58,
   "metadata": {
    "collapsed": true
   },
   "outputs": [
    {
     "name": "stdout",
     "output_type": "stream",
     "text": [
      "(621,)\n(621, 25)\n<class 'pandas.core.frame.DataFrame'>\n     meshes.0 meshes.1       meshes.2                meshes.3 meshes.4  \\\n0  Adolescent    Adult  Brain Mapping  Electroencephalography   Female   \n\n           meshes.5 meshes.6                    meshes.7 meshes.8  \\\n0  Fourier Analysis   Humans  Magnetic Resonance Imaging     Male   \n\n      meshes.9    ...    meshes.15 meshes.16 meshes.17 meshes.18 meshes.19  \\\n0  Middle Aged    ...          NaN       NaN       NaN       NaN       NaN   \n\n  meshes.20 meshes.21 meshes.22 meshes.23 meshes.24  \n0       NaN       NaN       NaN       NaN       NaN  \n\n[1 rows x 25 columns]\n['Male' 'Female']\n"
     ]
    }
   ],
   "source": [
    "\n",
    "print(type(y))\n",
    "print(y[:1])\n",
    "\n",
    "from sklearn.preprocessing import MultiLabelBinarizer\n",
    "mlb = MultiLabelBinarizer(classes=(\"Male\", \"Female\"))\n",
    "Y = mlb.fit(y)\n",
    "print(mlb.classes_)"
   ]
  },
  {
   "cell_type": "code",
   "execution_count": 31,
   "metadata": {},
   "outputs": [
    {
     "data": {
      "text/plain": [
       "<621x11679 sparse matrix of type '<class 'numpy.int64'>'\n\twith 55609 stored elements in Compressed Sparse Row format>"
      ]
     },
     "execution_count": 31,
     "metadata": {},
     "output_type": "execute_result"
    }
   ],
   "source": [
    "from sklearn.feature_extraction.text import CountVectorizer\n",
    "cv = CountVectorizer(stop_words=\"english\")\n",
    "cv.fit(X)\n",
    "train_dtm = cv.transform(X)\n",
    "train_dtm"
   ]
  },
  {
   "cell_type": "code",
   "execution_count": 37,
   "metadata": {},
   "outputs": [
    {
     "name": "stdout",
     "output_type": "stream",
     "text": [
      "(465,)\n(156,)\n(465, 25)\n(156, 25)\n"
     ]
    }
   ],
   "source": [
    "# Train Test Split\n",
    "from sklearn.model_selection import train_test_split\n",
    "X_train, X_test, y_train, y_test = train_test_split(X, y)\n",
    "print(X_train.shape)\n",
    "print(X_test.shape)\n",
    "print(y_train.shape)\n",
    "print(y_test.shape)"
   ]
  },
  {
   "cell_type": "code",
   "execution_count": 41,
   "metadata": {
    "collapsed": true
   },
   "outputs": [
    {
     "data": {
      "text/plain": [
       "<465x10092 sparse matrix of type '<class 'numpy.int64'>'\n\twith 41653 stored elements in Compressed Sparse Row format>"
      ]
     },
     "execution_count": 41,
     "metadata": {},
     "output_type": "execute_result"
    }
   ],
   "source": [
    "cv = CountVectorizer(stop_words=\"english\")\n",
    "X_train_dtm = cv.fit_transform(X_train)\n",
    "X_train_dtm"
   ]
  },
  {
   "cell_type": "code",
   "execution_count": 43,
   "metadata": {
    "collapsed": true
   },
   "outputs": [
    {
     "ename": "ValueError",
     "evalue": "bad input shape (465, 25)",
     "traceback": [
      "\u001b[1;31m---------------------------------------------------------------------------\u001b[0m",
      "\u001b[1;31mValueError\u001b[0m                                Traceback (most recent call last)",
      "\u001b[1;32m<ipython-input-43-cb04684af898>\u001b[0m in \u001b[0;36m<module>\u001b[1;34m()\u001b[0m\n\u001b[0;32m      1\u001b[0m \u001b[1;32mfrom\u001b[0m \u001b[0msklearn\u001b[0m\u001b[1;33m.\u001b[0m\u001b[0mnaive_bayes\u001b[0m \u001b[1;32mimport\u001b[0m \u001b[0mMultinomialNB\u001b[0m\u001b[1;33m\u001b[0m\u001b[0m\n\u001b[0;32m      2\u001b[0m \u001b[0mnb\u001b[0m \u001b[1;33m=\u001b[0m \u001b[0mMultinomialNB\u001b[0m\u001b[1;33m(\u001b[0m\u001b[1;33m)\u001b[0m\u001b[1;33m\u001b[0m\u001b[0m\n\u001b[1;32m----> 3\u001b[1;33m \u001b[0mnb\u001b[0m\u001b[1;33m.\u001b[0m\u001b[0mfit\u001b[0m\u001b[1;33m(\u001b[0m\u001b[0mX_train_dtm\u001b[0m\u001b[1;33m,\u001b[0m \u001b[0my_train\u001b[0m\u001b[1;33m)\u001b[0m\u001b[1;33m\u001b[0m\u001b[0m\n\u001b[0m",
      "\u001b[1;32mG:\\Users\\Av\\Miniconda3\\lib\\site-packages\\sklearn\\naive_bayes.py\u001b[0m in \u001b[0;36mfit\u001b[1;34m(self, X, y, sample_weight)\u001b[0m\n\u001b[0;32m    560\u001b[0m             \u001b[0mReturns\u001b[0m \u001b[0mself\u001b[0m\u001b[1;33m.\u001b[0m\u001b[1;33m\u001b[0m\u001b[0m\n\u001b[0;32m    561\u001b[0m         \"\"\"\n\u001b[1;32m--> 562\u001b[1;33m         \u001b[0mX\u001b[0m\u001b[1;33m,\u001b[0m \u001b[0my\u001b[0m \u001b[1;33m=\u001b[0m \u001b[0mcheck_X_y\u001b[0m\u001b[1;33m(\u001b[0m\u001b[0mX\u001b[0m\u001b[1;33m,\u001b[0m \u001b[0my\u001b[0m\u001b[1;33m,\u001b[0m \u001b[1;34m'csr'\u001b[0m\u001b[1;33m)\u001b[0m\u001b[1;33m\u001b[0m\u001b[0m\n\u001b[0m\u001b[0;32m    563\u001b[0m         \u001b[0m_\u001b[0m\u001b[1;33m,\u001b[0m \u001b[0mn_features\u001b[0m \u001b[1;33m=\u001b[0m \u001b[0mX\u001b[0m\u001b[1;33m.\u001b[0m\u001b[0mshape\u001b[0m\u001b[1;33m\u001b[0m\u001b[0m\n\u001b[0;32m    564\u001b[0m \u001b[1;33m\u001b[0m\u001b[0m\n",
      "\u001b[1;32mG:\\Users\\Av\\Miniconda3\\lib\\site-packages\\sklearn\\utils\\validation.py\u001b[0m in \u001b[0;36mcheck_X_y\u001b[1;34m(X, y, accept_sparse, dtype, order, copy, force_all_finite, ensure_2d, allow_nd, multi_output, ensure_min_samples, ensure_min_features, y_numeric, warn_on_dtype, estimator)\u001b[0m\n\u001b[0;32m    524\u001b[0m                         dtype=None)\n\u001b[0;32m    525\u001b[0m     \u001b[1;32melse\u001b[0m\u001b[1;33m:\u001b[0m\u001b[1;33m\u001b[0m\u001b[0m\n\u001b[1;32m--> 526\u001b[1;33m         \u001b[0my\u001b[0m \u001b[1;33m=\u001b[0m \u001b[0mcolumn_or_1d\u001b[0m\u001b[1;33m(\u001b[0m\u001b[0my\u001b[0m\u001b[1;33m,\u001b[0m \u001b[0mwarn\u001b[0m\u001b[1;33m=\u001b[0m\u001b[1;32mTrue\u001b[0m\u001b[1;33m)\u001b[0m\u001b[1;33m\u001b[0m\u001b[0m\n\u001b[0m\u001b[0;32m    527\u001b[0m         \u001b[0m_assert_all_finite\u001b[0m\u001b[1;33m(\u001b[0m\u001b[0my\u001b[0m\u001b[1;33m)\u001b[0m\u001b[1;33m\u001b[0m\u001b[0m\n\u001b[0;32m    528\u001b[0m     \u001b[1;32mif\u001b[0m \u001b[0my_numeric\u001b[0m \u001b[1;32mand\u001b[0m \u001b[0my\u001b[0m\u001b[1;33m.\u001b[0m\u001b[0mdtype\u001b[0m\u001b[1;33m.\u001b[0m\u001b[0mkind\u001b[0m \u001b[1;33m==\u001b[0m \u001b[1;34m'O'\u001b[0m\u001b[1;33m:\u001b[0m\u001b[1;33m\u001b[0m\u001b[0m\n",
      "\u001b[1;32mG:\\Users\\Av\\Miniconda3\\lib\\site-packages\\sklearn\\utils\\validation.py\u001b[0m in \u001b[0;36mcolumn_or_1d\u001b[1;34m(y, warn)\u001b[0m\n\u001b[0;32m    560\u001b[0m         \u001b[1;32mreturn\u001b[0m \u001b[0mnp\u001b[0m\u001b[1;33m.\u001b[0m\u001b[0mravel\u001b[0m\u001b[1;33m(\u001b[0m\u001b[0my\u001b[0m\u001b[1;33m)\u001b[0m\u001b[1;33m\u001b[0m\u001b[0m\n\u001b[0;32m    561\u001b[0m \u001b[1;33m\u001b[0m\u001b[0m\n\u001b[1;32m--> 562\u001b[1;33m     \u001b[1;32mraise\u001b[0m \u001b[0mValueError\u001b[0m\u001b[1;33m(\u001b[0m\u001b[1;34m\"bad input shape {0}\"\u001b[0m\u001b[1;33m.\u001b[0m\u001b[0mformat\u001b[0m\u001b[1;33m(\u001b[0m\u001b[0mshape\u001b[0m\u001b[1;33m)\u001b[0m\u001b[1;33m)\u001b[0m\u001b[1;33m\u001b[0m\u001b[0m\n\u001b[0m\u001b[0;32m    563\u001b[0m \u001b[1;33m\u001b[0m\u001b[0m\n\u001b[0;32m    564\u001b[0m \u001b[1;33m\u001b[0m\u001b[0m\n",
      "\u001b[1;31mValueError\u001b[0m: bad input shape (465, 25)"
     ],
     "output_type": "error"
    }
   ],
   "source": [
    "from sklearn.naive_bayes import MultinomialNB\n",
    "nb = MultinomialNB()\n",
    "nb.fit(X_train_dtm, y_train)"
   ]
  },
  {
   "cell_type": "code",
   "execution_count": null,
   "metadata": {},
   "outputs": [],
   "source": [
    ""
   ]
  }
 ],
 "metadata": {
  "kernelspec": {
   "display_name": "Python 2",
   "language": "python",
   "name": "python2"
  },
  "language_info": {
   "codemirror_mode": {
    "name": "ipython",
    "version": 2.0
   },
   "file_extension": ".py",
   "mimetype": "text/x-python",
   "name": "python",
   "nbconvert_exporter": "python",
   "pygments_lexer": "ipython2",
   "version": "2.7.6"
  }
 },
 "nbformat": 4,
 "nbformat_minor": 0
}