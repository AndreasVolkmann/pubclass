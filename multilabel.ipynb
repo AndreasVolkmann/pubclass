{
 "cells": [
  {
   "cell_type": "code",
   "execution_count": 49,
   "metadata": {
    "collapsed": true
   },
   "outputs": [],
   "source": [
    "import pandas as pd\n",
    "data = pd.read_csv(\"data.csv\", quotechar='\"')"
   ]
  },
  {
   "cell_type": "code",
   "execution_count": 50,
   "metadata": {
    "collapsed": true
   },
   "outputs": [
    {
     "data": {
      "text/html": [
       "<div>\n",
       "<table border=\"1\" class=\"dataframe\">\n",
       "  <thead>\n",
       "    <tr style=\"text-align: right;\">\n",
       "      <th></th>\n",
       "      <th>term1</th>\n",
       "      <th>term2</th>\n",
       "      <th>term3</th>\n",
       "      <th>text</th>\n",
       "    </tr>\n",
       "  </thead>\n",
       "  <tbody>\n",
       "    <tr>\n",
       "      <th>0</th>\n",
       "      <td>Epidemiology</td>\n",
       "      <td>NaN</td>\n",
       "      <td>NaN</td>\n",
       "      <td>Epidemiological study of paediatric germ cell ...</td>\n",
       "    </tr>\n",
       "    <tr>\n",
       "      <th>1</th>\n",
       "      <td>Patient Education as Topic</td>\n",
       "      <td>NaN</td>\n",
       "      <td>NaN</td>\n",
       "      <td>Study protocol: Rehabilitation including Socia...</td>\n",
       "    </tr>\n",
       "    <tr>\n",
       "      <th>2</th>\n",
       "      <td>Pediatrics</td>\n",
       "      <td>Statistics as Topic</td>\n",
       "      <td>NaN</td>\n",
       "      <td>Symptoms and time to diagnosis in children wit...</td>\n",
       "    </tr>\n",
       "    <tr>\n",
       "      <th>3</th>\n",
       "      <td>Immunohistochemistry</td>\n",
       "      <td>NaN</td>\n",
       "      <td>NaN</td>\n",
       "      <td>Relationship of cocaine-induced c-Fos expressi...</td>\n",
       "    </tr>\n",
       "    <tr>\n",
       "      <th>4</th>\n",
       "      <td>Immunohistochemistry</td>\n",
       "      <td>NaN</td>\n",
       "      <td>NaN</td>\n",
       "      <td>Surfactant protein D in atopic dermatitis and ...</td>\n",
       "    </tr>\n",
       "  </tbody>\n",
       "</table>\n",
       "</div>"
      ],
      "text/plain": [
       "<div>\n",
       "<table border=\"1\" class=\"dataframe\">\n",
       "  <thead>\n",
       "    <tr style=\"text-align: right;\">\n",
       "      <th></th>\n",
       "      <th>term1</th>\n",
       "      <th>term2</th>\n",
       "      <th>term3</th>\n",
       "      <th>text</th>\n",
       "    </tr>\n",
       "  </thead>\n",
       "  <tbody>\n",
       "    <tr>\n",
       "      <th>0</th>\n",
       "      <td>Epidemiology</td>\n",
       "      <td>NaN</td>\n",
       "      <td>NaN</td>\n",
       "      <td>Epidemiological study of paediatric germ cell ...</td>\n",
       "    </tr>\n",
       "    <tr>\n",
       "      <th>1</th>\n",
       "      <td>Patient Education as Topic</td>\n",
       "      <td>NaN</td>\n",
       "      <td>NaN</td>\n",
       "      <td>Study protocol: Rehabilitation including Socia...</td>\n",
       "    </tr>\n",
       "    <tr>\n",
       "      <th>2</th>\n",
       "      <td>Pediatrics</td>\n",
       "      <td>Statistics as Topic</td>\n",
       "      <td>NaN</td>\n",
       "      <td>Symptoms and time to diagnosis in children wit...</td>\n",
       "    </tr>\n",
       "    <tr>\n",
       "      <th>3</th>\n",
       "      <td>Immunohistochemistry</td>\n",
       "      <td>NaN</td>\n",
       "      <td>NaN</td>\n",
       "      <td>Relationship of cocaine-induced c-Fos expressi...</td>\n",
       "    </tr>\n",
       "    <tr>\n",
       "      <th>4</th>\n",
       "      <td>Immunohistochemistry</td>\n",
       "      <td>NaN</td>\n",
       "      <td>NaN</td>\n",
       "      <td>Surfactant protein D in atopic dermatitis and ...</td>\n",
       "    </tr>\n",
       "  </tbody>\n",
       "</table>\n",
       "</div>"
      ]
     },
     "execution_count": 49,
     "metadata": {},
     "output_type": "execute_result"
    }
   ],
   "source": [
    "data.head()"
   ]
  },
  {
   "cell_type": "code",
   "execution_count": 51,
   "metadata": {},
   "outputs": [
    {
     "name": "stdout",
     "output_type": "stream",
     "text": [
      "(341,)\n(341, 3)\n"
     ]
    }
   ],
   "source": [
    "X = data.text\n",
    "y = data[[\"term1\", \"term2\", \"term3\"]]\n",
    "print(X.shape)\n",
    "print(y.shape)"
   ]
  },
  {
   "cell_type": "code",
   "execution_count": 52,
   "metadata": {
    "collapsed": true
   },
   "outputs": [
    {
     "name": "stdout",
     "output_type": "stream",
     "text": [
      "['Acoustics' 'Aerospace Medicine' 'Allergy and Immunology' 'Anatomy'\n 'Anesthesiology' 'Biology' 'Biomedical Research' 'Biophysics'\n 'Biotechnology' 'Cardiology' 'Chemistry  Pharmaceutical'\n 'Chemistry  Physical' 'Chiropractic' 'Clinical Clerkship'\n 'Clinical Competence' 'Competency-Based Education' 'Computational Biology'\n 'Computer-Assisted Instruction' 'Crystallography' 'Curriculum'\n 'Dental Research' 'Dermatology' 'Drug Design' 'Ecology' 'Ecotoxicology'\n 'Education' 'Education  Medical' 'Education  Medical  Continuing'\n 'Education  Medical  Graduate' 'Education  Medical  Undergraduate'\n 'Education  Nursing' 'Education  Nursing  Continuing'\n 'Educational Measurement' 'Electrochemistry' 'Electronics'\n 'Electrophysiology' 'Emergency Medicine' 'Environmental Health'\n 'Environmental Microbiology' 'Epidemiology' 'Evidence-Based Dentistry'\n 'Evidence-Based Medicine' 'Evidence-Based Practice' 'Family Practice'\n 'Fiber Optic Technology' 'Food Microbiology' 'Forensic Pathology'\n 'Forensic Toxicology' 'Gastroenterology' 'Gene Ontology'\n 'General Practice' 'General Surgery' 'Genetic Counseling' 'Genetics'\n 'Genetics  Population' 'Genomics' 'Geography' 'Geriatric Nursing'\n 'Geriatrics' 'Global Health' 'Grounded Theory' 'Gynecology'\n 'Health Education' 'Health Occupations' 'Health Services Research'\n 'Hematology' 'Herbal Medicine' 'Histology' 'Immunochemistry'\n 'Immunohistochemistry' 'Internal Medicine' 'Internship and Residency'\n 'Mathematics' 'Medical Oncology' 'Medicine' 'Metabolomics' 'Microscopy'\n 'Midwifery' 'Models  Educational' 'Nanomedicine' 'Nanotechnology'\n 'Needs Assessment' 'Neonatology' 'Neuroendocrinology' 'Neurology'\n 'Neurosurgery' 'Nonlinear Dynamics' 'Nursing'\n 'Nursing Methodology Research' 'Nutrigenomics' 'Obstetrics'\n 'Operating Room Nursing' 'Optics and Photonics' 'Orthopedics'\n 'Otolaryngology' 'Outcome Assessment (Health Care)' 'Parasitology'\n 'Pathology' 'Pathology  Molecular' 'Patient Education as Topic'\n 'Patient Simulation' 'Pediatric Nursing' 'Pediatrics'\n 'Pharmacoepidemiology' 'Pharmacogenetics' 'Pharmacology  Clinical'\n 'Photochemistry' 'Phylogeography' 'Physical Education and Training'\n 'Physiology' 'Precision Medicine' 'Proteomics' 'Psychiatry'\n 'Public Health' 'Qualitative Research' 'Radiation Oncology' 'Radiology'\n 'Regenerative Medicine' 'Rehabilitation' 'Research' 'Research Design'\n 'Research Report' 'Rheology' 'Sanitation' 'Schools' 'Serology'\n 'Soil Microbiology' 'Specialization' 'Statistics as Topic'\n 'Synthetic Biology' 'Systems Integration' 'Teaching' 'Telemedicine'\n 'Thoracic Surgery' 'Toxicology' 'Ultrasonics' 'Universities'\n 'Water Microbiology']\n"
     ]
    }
   ],
   "source": [
    "from sklearn.preprocessing import MultiLabelBinarizer\n",
    "import numpy as np\n",
    "yvalues = y.as_matrix()\n",
    "\n",
    "final = []\n",
    "for i in range(0, len(yvalues)):\n",
    "    r = yvalues[:][i:i+1]\n",
    "    r = np.array(r[[~pd.isnull(r)]])\n",
    "    final.append(r)\n",
    "\n",
    "final = np.array(final)\n",
    "mlb = MultiLabelBinarizer()\n",
    "Y = mlb.fit_transform(final)\n",
    "print(mlb.classes_)"
   ]
  },
  {
   "cell_type": "code",
   "execution_count": 53,
   "metadata": {},
   "outputs": [
    {
     "data": {
      "text/plain": [
       "<341x8759 sparse matrix of type '<class 'numpy.int64'>'\n\twith 32155 stored elements in Compressed Sparse Row format>"
      ]
     },
     "execution_count": 52,
     "metadata": {},
     "output_type": "execute_result"
    }
   ],
   "source": [
    "from sklearn.feature_extraction.text import CountVectorizer\n",
    "cv = CountVectorizer(stop_words=\"english\")\n",
    "cv.fit(X)\n",
    "train_dtm = cv.transform(X)\n",
    "train_dtm"
   ]
  },
  {
   "cell_type": "code",
   "execution_count": 54,
   "metadata": {},
   "outputs": [
    {
     "name": "stdout",
     "output_type": "stream",
     "text": [
      "(306,)\n(35,)\n(306, 138)\n(35, 138)\n"
     ]
    }
   ],
   "source": [
    "# Train Test Split\n",
    "from sklearn.model_selection import train_test_split\n",
    "X_train, X_test, Y_train, Y_test = train_test_split(X, Y, test_size=0.1)\n",
    "print(X_train.shape)\n",
    "print(X_test.shape)\n",
    "print(Y_train.shape)\n",
    "print(Y_test.shape)"
   ]
  },
  {
   "cell_type": "code",
   "execution_count": 55,
   "metadata": {
    "collapsed": true
   },
   "outputs": [
    {
     "data": {
      "text/plain": [
       "<306x8188 sparse matrix of type '<class 'numpy.int64'>'\n\twith 28590 stored elements in Compressed Sparse Row format>"
      ]
     },
     "execution_count": 54,
     "metadata": {},
     "output_type": "execute_result"
    }
   ],
   "source": [
    "cv = CountVectorizer(stop_words=\"english\")\n",
    "X_train_dtm = cv.fit_transform(X_train)\n",
    "X_train_dtm"
   ]
  },
  {
   "cell_type": "code",
   "execution_count": 56,
   "metadata": {
    "collapsed": true
   },
   "outputs": [
    {
     "name": "stderr",
     "output_type": "stream",
     "text": [
      "G:\\Users\\Av\\Miniconda3\\lib\\site-packages\\sklearn\\multiclass.py:76: UserWarning: Label not 25 is present in all training examples.\n  str(classes[c]))\nG:\\Users\\Av\\Miniconda3\\lib\\site-packages\\sklearn\\multiclass.py:76: UserWarning: Label not 31 is present in all training examples.\n  str(classes[c]))\n"
     ]
    },
    {
     "name": "stderr",
     "output_type": "stream",
     "text": [
      "G:\\Users\\Av\\Miniconda3\\lib\\site-packages\\sklearn\\multiclass.py:76: UserWarning: Label not 49 is present in all training examples.\n  str(classes[c]))\n"
     ]
    },
    {
     "name": "stderr",
     "output_type": "stream",
     "text": [
      "G:\\Users\\Av\\Miniconda3\\lib\\site-packages\\sklearn\\multiclass.py:76: UserWarning: Label not 72 is present in all training examples.\n  str(classes[c]))\n"
     ]
    },
    {
     "name": "stderr",
     "output_type": "stream",
     "text": [
      "G:\\Users\\Av\\Miniconda3\\lib\\site-packages\\sklearn\\multiclass.py:76: UserWarning: Label not 133 is present in all training examples.\n  str(classes[c]))\n"
     ]
    },
    {
     "name": "stdout",
     "output_type": "stream",
     "text": [
      "Multilabel:  True\n"
     ]
    }
   ],
   "source": [
    "from sklearn.multiclass import OneVsRestClassifier\n",
    "from sklearn.svm import SVC\n",
    "X_train_dtm = cv.fit_transform(X_train)\n",
    "X_test_dtm = cv.transform(X_test)\n",
    "ovr = OneVsRestClassifier(SVC(kernel='linear'))\n",
    "ovr.fit(X_train_dtm, Y_train)\n",
    "print(\"Multilabel: \", ovr.multilabel_)\n",
    "Y_pred_class = ovr.predict(X_test_dtm)"
   ]
  },
  {
   "cell_type": "code",
   "execution_count": 57,
   "metadata": {},
   "outputs": [
    {
     "name": "stdout",
     "output_type": "stream",
     "text": [
      "0.0285714285714\n"
     ]
    }
   ],
   "source": [
    "from sklearn import metrics\n",
    "score = metrics.accuracy_score(Y_test, Y_pred_class)\n",
    "print(score)"
   ]
  },
  {
   "cell_type": "code",
   "execution_count": 57,
   "metadata": {},
   "outputs": [],
   "source": [
    ""
   ]
  },
  {
   "cell_type": "code",
   "execution_count": null,
   "metadata": {},
   "outputs": [],
   "source": [
    ""
   ]
  }
 ],
 "metadata": {
  "kernelspec": {
   "display_name": "Python 2",
   "language": "python",
   "name": "python2"
  },
  "language_info": {
   "codemirror_mode": {
    "name": "ipython",
    "version": 2.0
   },
   "file_extension": ".py",
   "mimetype": "text/x-python",
   "name": "python",
   "nbconvert_exporter": "python",
   "pygments_lexer": "ipython2",
   "version": "2.7.6"
  }
 },
 "nbformat": 4,
 "nbformat_minor": 0
}